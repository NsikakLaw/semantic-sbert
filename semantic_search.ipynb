{
 "cells": [
  {
   "cell_type": "code",
   "execution_count": 8,
   "metadata": {},
   "outputs": [],
   "source": [
    "import pandas as pd\n",
    "import scipy"
   ]
  },
  {
   "cell_type": "code",
   "execution_count": 1,
   "metadata": {},
   "outputs": [
    {
     "name": "stdout",
     "output_type": "stream",
     "text": [
      "Requirement already satisfied: sentence-transformers in c:\\users\\isung\\.conda\\envs\\newenv\\lib\\site-packages (0.3.2)\n",
      "Requirement already satisfied: transformers>=3.0.2 in c:\\users\\isung\\.conda\\envs\\newenv\\lib\\site-packages (from sentence-transformers) (3.0.2)\n",
      "Requirement already satisfied: scikit-learn in c:\\users\\isung\\.conda\\envs\\newenv\\lib\\site-packages (from sentence-transformers) (0.23.1)\n",
      "Requirement already satisfied: nltk in c:\\users\\isung\\.conda\\envs\\newenv\\lib\\site-packages (from sentence-transformers) (3.5)\n",
      "Requirement already satisfied: torch>=1.2.0 in c:\\users\\isung\\.conda\\envs\\newenv\\lib\\site-packages (from sentence-transformers) (1.5.0)\n",
      "Requirement already satisfied: numpy in c:\\users\\isung\\.conda\\envs\\newenv\\lib\\site-packages (from sentence-transformers) (1.18.5)\n",
      "Requirement already satisfied: tqdm in c:\\users\\isung\\.conda\\envs\\newenv\\lib\\site-packages (from sentence-transformers) (4.48.0)\n",
      "Requirement already satisfied: scipy in c:\\users\\isung\\.conda\\envs\\newenv\\lib\\site-packages (from sentence-transformers) (1.4.1)\n",
      "Requirement already satisfied: requests in c:\\users\\isung\\.conda\\envs\\newenv\\lib\\site-packages (from transformers>=3.0.2->sentence-transformers) (2.24.0)\n",
      "Requirement already satisfied: filelock in c:\\users\\isung\\.conda\\envs\\newenv\\lib\\site-packages (from transformers>=3.0.2->sentence-transformers) (3.0.12)\n",
      "Requirement already satisfied: sacremoses in c:\\users\\isung\\.conda\\envs\\newenv\\lib\\site-packages (from transformers>=3.0.2->sentence-transformers) (0.0.43)\n",
      "Requirement already satisfied: packaging in c:\\users\\isung\\.conda\\envs\\newenv\\lib\\site-packages (from transformers>=3.0.2->sentence-transformers) (20.4)\n",
      "Requirement already satisfied: sentencepiece!=0.1.92 in c:\\users\\isung\\.conda\\envs\\newenv\\lib\\site-packages (from transformers>=3.0.2->sentence-transformers) (0.1.91)\n",
      "Requirement already satisfied: regex!=2019.12.17 in c:\\users\\isung\\.conda\\envs\\newenv\\lib\\site-packages (from transformers>=3.0.2->sentence-transformers) (2020.7.14)\n",
      "Requirement already satisfied: tokenizers==0.8.1.rc1 in c:\\users\\isung\\.conda\\envs\\newenv\\lib\\site-packages (from transformers>=3.0.2->sentence-transformers) (0.8.1rc1)\n",
      "Requirement already satisfied: threadpoolctl>=2.0.0 in c:\\users\\isung\\.conda\\envs\\newenv\\lib\\site-packages (from scikit-learn->sentence-transformers) (2.1.0)\n",
      "Requirement already satisfied: joblib>=0.11 in c:\\users\\isung\\.conda\\envs\\newenv\\lib\\site-packages (from scikit-learn->sentence-transformers) (0.16.0)\n",
      "Requirement already satisfied: click in c:\\users\\isung\\.conda\\envs\\newenv\\lib\\site-packages (from nltk->sentence-transformers) (7.1.2)\n",
      "Requirement already satisfied: future in c:\\users\\isung\\.conda\\envs\\newenv\\lib\\site-packages (from torch>=1.2.0->sentence-transformers) (0.18.2)\n",
      "Requirement already satisfied: urllib3!=1.25.0,!=1.25.1,<1.26,>=1.21.1 in c:\\users\\isung\\.conda\\envs\\newenv\\lib\\site-packages (from requests->transformers>=3.0.2->sentence-transformers) (1.25.10)\n",
      "Requirement already satisfied: chardet<4,>=3.0.2 in c:\\users\\isung\\.conda\\envs\\newenv\\lib\\site-packages (from requests->transformers>=3.0.2->sentence-transformers) (3.0.4)\n",
      "Requirement already satisfied: certifi>=2017.4.17 in c:\\users\\isung\\.conda\\envs\\newenv\\lib\\site-packages (from requests->transformers>=3.0.2->sentence-transformers) (2020.6.20)\n",
      "Requirement already satisfied: idna<3,>=2.5 in c:\\users\\isung\\.conda\\envs\\newenv\\lib\\site-packages (from requests->transformers>=3.0.2->sentence-transformers) (2.10)\n",
      "Requirement already satisfied: six in c:\\users\\isung\\.conda\\envs\\newenv\\lib\\site-packages (from sacremoses->transformers>=3.0.2->sentence-transformers) (1.15.0)\n",
      "Requirement already satisfied: pyparsing>=2.0.2 in c:\\users\\isung\\.conda\\envs\\newenv\\lib\\site-packages (from packaging->transformers>=3.0.2->sentence-transformers) (2.4.7)\n",
      "Note: you may need to restart the kernel to use updated packages.\n"
     ]
    }
   ],
   "source": [
    "pip install sentence-transformers"
   ]
  },
  {
   "cell_type": "code",
   "execution_count": 20,
   "metadata": {},
   "outputs": [],
   "source": [
    "from sentence_transformers import SentenceTransformer"
   ]
  },
  {
   "cell_type": "code",
   "execution_count": 21,
   "metadata": {},
   "outputs": [],
   "source": [
    "sentence_model = SentenceTransformer('bert-base-nli-mean-tokens')"
   ]
  },
  {
   "cell_type": "code",
   "execution_count": 22,
   "metadata": {},
   "outputs": [],
   "source": [
    "input = pd.read_csv('kb.csv', header = None)"
   ]
  },
  {
   "cell_type": "code",
   "execution_count": 23,
   "metadata": {},
   "outputs": [],
   "source": [
    "input = input.transpose()"
   ]
  },
  {
   "cell_type": "code",
   "execution_count": 24,
   "metadata": {},
   "outputs": [
    {
     "data": {
      "text/html": [
       "<div>\n",
       "<style scoped>\n",
       "    .dataframe tbody tr th:only-of-type {\n",
       "        vertical-align: middle;\n",
       "    }\n",
       "\n",
       "    .dataframe tbody tr th {\n",
       "        vertical-align: top;\n",
       "    }\n",
       "\n",
       "    .dataframe thead th {\n",
       "        text-align: right;\n",
       "    }\n",
       "</style>\n",
       "<table border=\"1\" class=\"dataframe\">\n",
       "  <thead>\n",
       "    <tr style=\"text-align: right;\">\n",
       "      <th></th>\n",
       "      <th>0</th>\n",
       "    </tr>\n",
       "  </thead>\n",
       "  <tbody>\n",
       "    <tr>\n",
       "      <th>0</th>\n",
       "      <td>Archiving &amp; Document Access for SAP solutions ...</td>\n",
       "    </tr>\n",
       "    <tr>\n",
       "      <th>1</th>\n",
       "      <td>Archive Server - How to configure more than 10</td>\n",
       "    </tr>\n",
       "    <tr>\n",
       "      <th>2</th>\n",
       "      <td>000 volumes in one Archive</td>\n",
       "    </tr>\n",
       "    <tr>\n",
       "      <th>3</th>\n",
       "      <td>Content Server - xECM - Error \"Processing erro...</td>\n",
       "    </tr>\n",
       "    <tr>\n",
       "      <th>4</th>\n",
       "      <td>Enterprise Scan - Uploading and Downloading pr...</td>\n",
       "    </tr>\n",
       "    <tr>\n",
       "      <th>...</th>\n",
       "      <td>...</td>\n",
       "    </tr>\n",
       "    <tr>\n",
       "      <th>75</th>\n",
       "      <td>Archive Server - How can the Archive Server be...</td>\n",
       "    </tr>\n",
       "    <tr>\n",
       "      <th>76</th>\n",
       "      <td>Content Server - Web Services configuration fo...</td>\n",
       "    </tr>\n",
       "    <tr>\n",
       "      <th>77</th>\n",
       "      <td>Archive Server - Administration Client 10.5 - ...</td>\n",
       "    </tr>\n",
       "    <tr>\n",
       "      <th>78</th>\n",
       "      <td>Archive Server - How to create a new version o...</td>\n",
       "    </tr>\n",
       "    <tr>\n",
       "      <th>79</th>\n",
       "      <td>Enterprise Scan - SSO Authentication Issue whe...</td>\n",
       "    </tr>\n",
       "  </tbody>\n",
       "</table>\n",
       "<p>80 rows × 1 columns</p>\n",
       "</div>"
      ],
      "text/plain": [
       "                                                    0\n",
       "0   Archiving & Document Access for SAP solutions ...\n",
       "1      Archive Server - How to configure more than 10\n",
       "2                          000 volumes in one Archive\n",
       "3   Content Server - xECM - Error \"Processing erro...\n",
       "4   Enterprise Scan - Uploading and Downloading pr...\n",
       "..                                                ...\n",
       "75  Archive Server - How can the Archive Server be...\n",
       "76  Content Server - Web Services configuration fo...\n",
       "77  Archive Server - Administration Client 10.5 - ...\n",
       "78  Archive Server - How to create a new version o...\n",
       "79  Enterprise Scan - SSO Authentication Issue whe...\n",
       "\n",
       "[80 rows x 1 columns]"
      ]
     },
     "execution_count": 24,
     "metadata": {},
     "output_type": "execute_result"
    }
   ],
   "source": [
    "input"
   ]
  },
  {
   "cell_type": "code",
   "execution_count": 25,
   "metadata": {},
   "outputs": [],
   "source": [
    "input.columns=['KBS']"
   ]
  },
  {
   "cell_type": "code",
   "execution_count": 26,
   "metadata": {},
   "outputs": [
    {
     "data": {
      "text/html": [
       "<div>\n",
       "<style scoped>\n",
       "    .dataframe tbody tr th:only-of-type {\n",
       "        vertical-align: middle;\n",
       "    }\n",
       "\n",
       "    .dataframe tbody tr th {\n",
       "        vertical-align: top;\n",
       "    }\n",
       "\n",
       "    .dataframe thead th {\n",
       "        text-align: right;\n",
       "    }\n",
       "</style>\n",
       "<table border=\"1\" class=\"dataframe\">\n",
       "  <thead>\n",
       "    <tr style=\"text-align: right;\">\n",
       "      <th></th>\n",
       "      <th>KBS</th>\n",
       "    </tr>\n",
       "  </thead>\n",
       "  <tbody>\n",
       "    <tr>\n",
       "      <th>0</th>\n",
       "      <td>Archiving &amp; Document Access for SAP solutions ...</td>\n",
       "    </tr>\n",
       "    <tr>\n",
       "      <th>1</th>\n",
       "      <td>Archive Server - How to configure more than 10</td>\n",
       "    </tr>\n",
       "    <tr>\n",
       "      <th>2</th>\n",
       "      <td>000 volumes in one Archive</td>\n",
       "    </tr>\n",
       "    <tr>\n",
       "      <th>3</th>\n",
       "      <td>Content Server - xECM - Error \"Processing erro...</td>\n",
       "    </tr>\n",
       "    <tr>\n",
       "      <th>4</th>\n",
       "      <td>Enterprise Scan - Uploading and Downloading pr...</td>\n",
       "    </tr>\n",
       "    <tr>\n",
       "      <th>...</th>\n",
       "      <td>...</td>\n",
       "    </tr>\n",
       "    <tr>\n",
       "      <th>75</th>\n",
       "      <td>Archive Server - How can the Archive Server be...</td>\n",
       "    </tr>\n",
       "    <tr>\n",
       "      <th>76</th>\n",
       "      <td>Content Server - Web Services configuration fo...</td>\n",
       "    </tr>\n",
       "    <tr>\n",
       "      <th>77</th>\n",
       "      <td>Archive Server - Administration Client 10.5 - ...</td>\n",
       "    </tr>\n",
       "    <tr>\n",
       "      <th>78</th>\n",
       "      <td>Archive Server - How to create a new version o...</td>\n",
       "    </tr>\n",
       "    <tr>\n",
       "      <th>79</th>\n",
       "      <td>Enterprise Scan - SSO Authentication Issue whe...</td>\n",
       "    </tr>\n",
       "  </tbody>\n",
       "</table>\n",
       "<p>80 rows × 1 columns</p>\n",
       "</div>"
      ],
      "text/plain": [
       "                                                  KBS\n",
       "0   Archiving & Document Access for SAP solutions ...\n",
       "1      Archive Server - How to configure more than 10\n",
       "2                          000 volumes in one Archive\n",
       "3   Content Server - xECM - Error \"Processing erro...\n",
       "4   Enterprise Scan - Uploading and Downloading pr...\n",
       "..                                                ...\n",
       "75  Archive Server - How can the Archive Server be...\n",
       "76  Content Server - Web Services configuration fo...\n",
       "77  Archive Server - Administration Client 10.5 - ...\n",
       "78  Archive Server - How to create a new version o...\n",
       "79  Enterprise Scan - SSO Authentication Issue whe...\n",
       "\n",
       "[80 rows x 1 columns]"
      ]
     },
     "execution_count": 26,
     "metadata": {},
     "output_type": "execute_result"
    }
   ],
   "source": [
    "input"
   ]
  },
  {
   "cell_type": "code",
   "execution_count": 27,
   "metadata": {},
   "outputs": [],
   "source": [
    "corpus = input['KBS'].values.tolist()"
   ]
  },
  {
   "cell_type": "code",
   "execution_count": 28,
   "metadata": {},
   "outputs": [
    {
     "data": {
      "text/plain": [
       "['Archiving & Document Access for SAP solutions - How to switch to a SSL/HTTPS only connection between SAP and Archive Server',\n",
       " 'Archive Server - How to configure more than 10',\n",
       " '000 volumes in one Archive',\n",
       " 'Content Server - xECM - Error \"Processing error in Internet Communication Framework\" is shown in the SAP diagnostics report',\n",
       " 'Enterprise Scan - Uploading and Downloading profiles fails when a clustered Archive Center is used',\n",
       " 'Archive Center - Oracle DB - Reinitialization of connection cache failed with exception: Cannot set the connection pool name',\n",
       " 'Extended ECM for SAP Solutions - \"Cannot get Content Server resource attributes from OTDS\" encountered in Mapping of SAP Roles',\n",
       " 'Content Server - Extended ECM for SAP - when using Transport Warehouse to import the SAP_Procurement_2.1.zip transport package you will get an error',\n",
       " 'Archive Server - Partition name too long',\n",
       " 'Archive Server - Parameters for ISO media name patterns',\n",
       " 'Archive Center - Intermittent error on \"found unusable component location\" when retrieving content',\n",
       " 'Archive Center - Azure Storage type ZRS fails to initialize',\n",
       " 'Archive Server - How do you remove a volume that was created through the Administration Client?',\n",
       " 'Archive Center - How to install Archive Center with Java 11 without using Java 8 under Windows',\n",
       " 'Archiving & Document Access for SAP solutions - How to switch to a SSL/HTTPS only connection between SAP and Archive Server',\n",
       " 'Archive Server - Configuring a Connection to a Load-Balanced SAP System',\n",
       " 'Archive Server - How to enable a TLS 1.2 Connection with a MS SQL Database',\n",
       " 'Archive Center- Some documents are not shown in Windows Viewer after applying an Update',\n",
       " 'Archiving and Document Access - Determining Which Viewer SAP Uses to View Images from Archive Server',\n",
       " 'Document Pipeline Info - Installation of Document Pipeline Info Tool results in error',\n",
       " 'Archive Center - How to move a HDSK volume to a new storage location',\n",
       " ' Archive Center - Administration Client crashes when selecting the System node',\n",
       " \"Document Pipeline - Documents fail to Archive at Archive Documents Step with error 'Transferred a partial file'\",\n",
       " 'Archive Center - How to increase logging level for general troubleshooting',\n",
       " 'Archive Server - Cannot login to Archive Monitoring Web Client using OTDS',\n",
       " 'Archive Center - The Administration Client is showing multiple instances of a Job running',\n",
       " 'Archiving and Document Access for SAP Solutions - No Scroll bar in Business Workspace using SAP Netweaver Business Client Portal',\n",
       " 'Enterprise Scan - Error when scanning \"critical error during archiving\"',\n",
       " 'Archive Server - 401 Unauthorized error when trying to write or read a document to a newly created Archive from SAP',\n",
       " 'Imaging Enterprise Scan - Performing a Silent Installation of Document Pipelines on Windows',\n",
       " 'Archive Center - How to replace expired timestamp server certificates',\n",
       " 'ocument Pipeline - Unable to archive a document into Content Server when HTTP settings are used',\n",
       " 'Capture Center - Image is not rendered when embedding images in an email',\n",
       " 'Imaging Enterprise Scan Client - Uninstalling the Enterprise Scan Client application',\n",
       " 'Archive Server - How do you remove a volume that was created through the Administration Client?',\n",
       " 'Archive Server - Configuring a Connection to a Load-Balanced SAP System',\n",
       " 'Archive Server - How to enable a TLS 1.2 Connection with a MS SQL Database',\n",
       " 'Archive Center - How to increase logging level for general troubleshooting',\n",
       " 'Archive Center - \"Cannot retrieve configuration variable AS.DBS.DBSYSTEM\" error appears in the AS.log when starting Archive Center',\n",
       " 'Archive Center - bksrvr fails to start due to \"Username/Password is invalid - Login denied\" error',\n",
       " 'Document Pipeline - How to configure SAP doctools of the Document Pipeline to use SNC to talk to a SAP System',\n",
       " 'Document Pipeline - Documents fail at the \"Send document to Document Service\" step',\n",
       " 'Archive Server - Cannot login to Archive Monitoring Web Client using OTDS',\n",
       " 'Archive Center - How to replace expired timestamp server certificates',\n",
       " 'Archive Server - rebuild STORM database',\n",
       " 'Document Pipeline - Unable to archive a document into Content Server when HTTP settings are used',\n",
       " 'Archive Server - Several processes are terminated after a new installation',\n",
       " \"Archive Center - Archive webapp isn't starting in Tomcat after an upgrade\",\n",
       " 'Document Pipeline - \"There is a problem with this Windows Installer package...\" Message Appears with the Installation Routine',\n",
       " 'Archive Center - How to adjust the maximum slot of a device storage',\n",
       " 'Document Pipeline - OCR Doctool - Documents get stuck in the ocrdt Doctool',\n",
       " 'Archive Server - How to restart an interrupted dsCD job',\n",
       " 'rchive Server - Error \"document access not allowed for RPC\" appears in the Write Job',\n",
       " 'Document Pipeline - What ports need to be configured for the DPInfo tool to access a Document Pipeline through a firewall?',\n",
       " 'Archive Server - dsaux and bksrv processes are terminating after installation',\n",
       " 'Archive Center - Failure is being encountered when initializing the storage volumes on S3',\n",
       " 'Enterprise Scan - \"Document Pipeline command failed.\" error message appears when archiving documents',\n",
       " 'Archive Server - How to migrate timestamp server certificates to another server',\n",
       " 'Document Pipeline - dpinfo Authentication Without Archive Server',\n",
       " 'Enterprise Scan - How to get profiles to update index field editability when switching after a document has been scanned',\n",
       " 'Document Pipeline - Documents get stuck in the Document Pipeline',\n",
       " 'Archive Server - Cloning an Archive Server Computer',\n",
       " 'Archive Server - How to find number of documents and/or components on a certain archive or volume',\n",
       " 'Archive Server - Purge Job fails with error \"FATAL: Volume <Buffer Name> can not be cleaned up\"',\n",
       " 'Archive Server - How to switch back to authentication using dsadmin when using Directory Service (OTDS) integration',\n",
       " 'Enterprise Scan - \"Critical error during archive. Document Pipeline command failed\" when attempting to scan and send to Archive Server',\n",
       " 'Capture Center - The profile Import Source may be missing on restart of Capture Center',\n",
       " 'Enterprise Scan - Archive Server hostname is missing when Enterprise Scan is installed without Imaging Viewer',\n",
       " 'Archive Center - How to configure for SSL after installation on a port other then 8090',\n",
       " 'Archive Server - How to change dsadmin password using dsClient enc utility?',\n",
       " 'Enterprise Scan - Enterprise Scan stops responding immediately after startup when the internal storage file is corrupt',\n",
       " 'Archive Center - Document Pipeline - How to encrypt logon data between DP Admin and Archive Server',\n",
       " 'Archive Server - How do I locate the docid if I have the pathname for a document?',\n",
       " 'Archive Server - Error messages appear in the jbd.log file when the default number of jobs is too small',\n",
       " 'Archive Server - How to assign an authentication certificate to an archive with specific privileges',\n",
       " 'Archive Server - How can the Archive Server be quickly and easily monitored?',\n",
       " 'Content Server - Web Services configuration for SSL in IIS deployments',\n",
       " 'Archive Server - Administration Client 10.5 - connection with https via port 8090 fails',\n",
       " 'Archive Server - How to create a new version of ATTRIB.ATR',\n",
       " 'Enterprise Scan - SSO Authentication Issue when configuring with Content Server     ']"
      ]
     },
     "execution_count": 28,
     "metadata": {},
     "output_type": "execute_result"
    }
   ],
   "source": [
    "corpus"
   ]
  },
  {
   "cell_type": "code",
   "execution_count": 29,
   "metadata": {},
   "outputs": [],
   "source": [
    "corpus_embedding = sentence_model.encode(corpus)"
   ]
  },
  {
   "cell_type": "code",
   "execution_count": 42,
   "metadata": {},
   "outputs": [],
   "source": [
    "query = \"pipeline bad install\"\n",
    "queries = [query]\n",
    "query_embeddings = sentence_model.encode(queries)"
   ]
  },
  {
   "cell_type": "code",
   "execution_count": 43,
   "metadata": {},
   "outputs": [
    {
     "name": "stdout",
     "output_type": "stream",
     "text": [
      "Search Results\n",
      "You are looking for:  pipeline bad install\n",
      "Top Search matches:\n",
      "Document Pipeline Info - Installation of Document Pipeline Info Tool results in error (Cosine function: 0.7800)\n",
      "Document Pipeline - Documents get stuck in the Document Pipeline (Cosine function: 0.7682)\n",
      "Document Pipeline - OCR Doctool - Documents get stuck in the ocrdt Doctool (Cosine function: 0.7262)\n",
      "Archive Server - Purge Job fails with error \"FATAL: Volume <Buffer Name> can not be cleaned up\" (Cosine function: 0.7233)\n",
      "Document Pipeline - Documents fail at the \"Send document to Document Service\" step (Cosine function: 0.7059)\n"
     ]
    }
   ],
   "source": [
    "number_of_matches = 5\n",
    "\n",
    "print(\"Search Results\")\n",
    "\n",
    "for query, query_embedding in zip(queries, query_embeddings):\n",
    "    distances = scipy.spatial.distance.cdist([query_embedding], e, \"cosine\")[0]\n",
    "    \n",
    "    results = zip(range(len(distances)), distances)\n",
    "    results = sorted(results, key=lambda X: X[1])\n",
    "    \n",
    "    print(\"You are looking for: \",query)\n",
    "    print(\"Top Search matches:\")\n",
    "    \n",
    "    for id, distance in results[0:number_of_matches]:\n",
    "        print(corpus[id].strip(), \"(Cosine function: %.4f)\" % (1-distance))"
   ]
  },
  {
   "cell_type": "code",
   "execution_count": 32,
   "metadata": {},
   "outputs": [],
   "source": [
    "import pickle as pkl"
   ]
  },
  {
   "cell_type": "code",
   "execution_count": 33,
   "metadata": {},
   "outputs": [],
   "source": [
    "with open(\"embeddings.pkl\" , \"wb\") as f:\n",
    "    pkl.dump(corpus_embedding,f)"
   ]
  },
  {
   "cell_type": "code",
   "execution_count": 34,
   "metadata": {},
   "outputs": [],
   "source": [
    "with open(\"embeddings.pkl\", \"rb\") as input_file:\n",
    "    e = pkl.load(input_file)"
   ]
  },
  {
   "cell_type": "code",
   "execution_count": 44,
   "metadata": {
    "scrolled": true
   },
   "outputs": [],
   "source": [
    "with open(\"corpus.pkl\" , \"wb\") as f:\n",
    "    pkl.dump(corpus,f)"
   ]
  },
  {
   "cell_type": "code",
   "execution_count": 45,
   "metadata": {},
   "outputs": [],
   "source": [
    "sentence_model.save('search')"
   ]
  }
 ],
 "metadata": {
  "kernelspec": {
   "display_name": "Python 3",
   "language": "python",
   "name": "python3"
  },
  "language_info": {
   "codemirror_mode": {
    "name": "ipython",
    "version": 3
   },
   "file_extension": ".py",
   "mimetype": "text/x-python",
   "name": "python",
   "nbconvert_exporter": "python",
   "pygments_lexer": "ipython3",
   "version": "3.7.7"
  }
 },
 "nbformat": 4,
 "nbformat_minor": 4
}
